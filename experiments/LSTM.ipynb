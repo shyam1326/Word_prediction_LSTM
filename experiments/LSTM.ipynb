{
 "cells": [
  {
   "cell_type": "code",
   "execution_count": 1,
   "id": "52b00d35-4794-445c-8c00-a676649c1816",
   "metadata": {},
   "outputs": [
    {
     "name": "stderr",
     "output_type": "stream",
     "text": [
      "2024-03-24 17:08:06.984360: I tensorflow/core/platform/cpu_feature_guard.cc:182] This TensorFlow binary is optimized to use available CPU instructions in performance-critical operations.\n",
      "To enable the following instructions: AVX2 FMA, in other operations, rebuild TensorFlow with the appropriate compiler flags.\n"
     ]
    }
   ],
   "source": [
    "import numpy as np\n",
    "import tensorflow as tf\n",
    "from tensorflow.keras.preprocessing.text import Tokenizer\n",
    "from tensorflow.keras.preprocessing.sequence import pad_sequences\n",
    "from tensorflow.keras.models import Sequential\n",
    "from tensorflow.keras.layers import Embedding, LSTM, Dense"
   ]
  },
  {
   "cell_type": "code",
   "execution_count": 4,
   "id": "2b8dc25f-47ec-4773-a9fe-bdfb12af0f90",
   "metadata": {},
   "outputs": [],
   "source": [
    "# Reading Data\n",
    "with open(r'/Volumes/Projects/Word_prediction_LSTM/dataset/IndiaUS.txt', 'r', encoding='utf-8') as f:\n",
    "    mytext = f.read()"
   ]
  },
  {
   "cell_type": "code",
   "execution_count": 12,
   "id": "3e5f4c65-4591-412a-a761-8b872a65cae4",
   "metadata": {
    "scrolled": true
   },
   "outputs": [
    {
     "name": "stdout",
     "output_type": "stream",
     "text": [
      "Following a lavish state visit by Indian Prime Minister Narendra Modi to Washington, US President Joe Biden has called his country's partnership with India among the \"most consequential in the world\". The BBC's Vikas Pandey and Soutik Biswas explore the factors that contribute to the visit's potential in strengthening the ties between the two nations.\n",
      "\n",
      "The US's relationship with India - the world's most populous country - is \"stronger, closer and more dynamic than any time in history\", Mr Biden said at the completion of a pomp-filled state visit by Mr Modi to the White House.\n",
      "\n",
      "The remark may not be an exaggeration. \"This summit suggests that the relationship has been transformed. It underscores just how broad and deep it has become in a relatively short time,\" says Michael Kugelman of The Wilson Center, an American think-tank.\n",
      "\n",
      "A key reason is that Washington is keen to draw India closer so that it can act as a counterbalance to China's growing influence in the Indo-Pacific. India-US ties had not lived up to their promise following a landmark civilian nuclear deal in 2005 because a liability law passed by India three years later hobbled purchase of reactors.\n",
      "\n",
      "\"This followed a fading commitment to the relationship during [former prime minister] Manmohan Singh's second term as the leader of a coalition government. With Mr Modi there has been a lot more enthusiasm about embracing the US. Mr Biden has also given an overall broad directive to make it work,\" says Seema Sirohi, author of Friends With Benefits: The India-US Story.\n",
      "\n",
      "Ms Sirohi says the US put in a \"lot of effort to make Mr Modi's visit substantive and have a lot of deliverables\". Defence-industrial cooperation and technology topped the list. Consider this:\n",
      "\n",
      "General Electric and India's state-owned Hindustan Aeronautics Limited will make in India advanced fighter jet engines for the country's indigenous light combat aircraft. This means a \"greater transfer of US jet engine technology than ever before\" - a clear sign that Washington not only wants to sell arms to India but is also comfortable with sharing military technology.\n",
      "India will proceed with a $3bn purchase of the battle-tested MQ-9B Predator drones from General Atomics, which will also set up a facility in India. The drones will be assembled in India, which fits into Mr Modi's 'Make in India' campaign. The US supplies only 11% of India's arms - Russia is the biggest (45%) supplier - but hopes to become the primary provider in the coming years. Mr Kugelman says Washington's immediate goal is to \"strengthen India's military capacity to counter China\".\n",
      "Mr Modi wants to make India a semiconductor base. US memory chip giant Micron Technology will invest up to $825m to build a semiconductor assembly and test facility in India, creating thousands of jobs.\n",
      "US semiconductor equipment maker Lam Research will train 60,000 Indian engineers through a network of interconnected labs and research centres to speed up India's semiconductor education and workforce development. Also Applied Materials, the biggest maker of machines for producing semiconductors, will invest $400m to establish an engineering centre in India.\n",
      "\"It is all about the future now. Both sides are talking about cutting-edge technologies and how to seed and shape the future,\" says Ms Sirohi.\n",
      "\n",
      ": U.S. President Joe Biden and first lady Jill Biden welcome India Prime Minister Narendra Modi to the White House on June 21, 2023 in Washington, DC\n",
      "Mr Biden and Mrs Biden welcome Mr Modi to the White House\n",
      "The India-US relationship has seen many ups and downs since the US seriously began courting India - first under President Bill Clinton and then under the George Bush administration. The response from India was measured, never overeager or too forthcoming.\n",
      "\n",
      "The reason was the way India saw geopolitics and its own place in the global order. The strategy of nonalignment, started by India's first prime minister Jawaharlal Nehru, has always been deeply rooted into India's foreign policy.\n",
      "\n",
      "India never wanted to be seen in one camp or the other, or to be seen as junior strategic partner to a global superpower. Mr Modi has not left the ideals of what some describe as \"strategic altruism\" in Indian foreign policy.\n",
      "\n",
      "But Mr Modi is leading a different kind of India, one which has considerably more economic and geopolitical heft. He has owned the India-US relations - he formed close bonds with former presidents Barack Obama and Donald Trump and now with Mr Biden.\n",
      "\n",
      "But India's \"strategic autonomy\" has not been sacrificed. Washington would have wanted India to go a step further on Russia and probably take a harder public stand on China.\n",
      "\n",
      "But the Biden administration didn't seem disappointed as Mr Modi repeated his line that \"this was not the era of war\" without mentioning Russia. The Indian prime minister did speak about the importance of beefing up humanitarian assistance to Ukraine. He didn't mention China by name either but did talk about the importance of a free and prosperous Indo-Pacific.\n",
      "\n",
      "This is how far Mr Modi could have pushed his administration's policy without compromising on strategic autonomy. It may not have been the ideal way for Washington but it didn't come in the way of making Mr Modi's visit a success.\n",
      "\n",
      "The United States Air Force (USAF) and Indian Air Force (IAF) personnel are posing in front of a United States Air Force (USAF) F-15 Eagle fighter jet during the joint 'Exercise Cope India 2023' at the air force station in Kalaikunda, around 170 km west of Kolkata, on April 24th, 2023. \n",
      "US and Indian air force personnel pose in front of a US fighter jet during a joint exercise in India in April\n",
      "\"The two militaries are working more closely together. They now have arrangements in place where they could use each other's facilities for refuelling and maintenance purposes. They are holding joint exercises and they're sharing a lot more intelligence. Credit to Mr Modi for managing to really test the limits of strategic autonomy. In the sense that he is getting about as close as you can to a major power without signing on to a full-fledged alliance,\" Mr Kugelman says.\n",
      "\n",
      "India and the US have had major trade differences in recent years over tariffs. Trade relations particularly suffered during the Trump administration.\n",
      "\n",
      "The two sides were not expected to announce anything major in trade as it was understood that the discussions over that could continue later without overshadowing the visit.\n",
      "\n",
      "But surprisingly, the two sides announced that six separate trade disputes at the World Trade Organization were resolved, including one that involved tariffs.\n",
      "\n",
      "The US is now India's top trading partner at $130bn in goods and Delhi is Washington's eighth largest partner. While these numbers are impressive, analysts and policymakers feel there is a huge untapped potential. India is also a burgeoning market with an expanding middle class and it's been positioning itself as an alternative to China to become a manufacturing hub for the world.\n",
      "\n",
      "President Joe Biden and Indian Prime Minister Narendra Modi participate in an arrival ceremony on the South Lawn of the White House on Thursday, June 22, 2023 in Washington, DC. President Biden is the first U.S. President to invite Prime Minister Modi for an official state visit\n",
      "Some 2.7 million Indians live in the US\n",
      "Many global firms and nations are interested in the proposal as they look to free the global supply chain from China's dominance. In that context, the resolution of trade disputes will give further impetus to unlocking the full potential of India-US trade ties. Mr Modi has said that \"even sky is not the limit (for India-US) ties\".\n",
      "\n",
      "Critics in Washington have questioned India's \"democratic backsliding\" under Mr Modi and his Hindu nationalist Bharatiya Janata Party (BJP). Mr Obama, in a television interview this week, emphasised the significance of addressing the \"protection of the Muslim minority in a predominantly Hindu India\" during discussions between Mr Biden and Mr Modi. \"The progressives in the Democratic Party are disturbed by what is happening in India. The realists and centrists are all for strengthening the relationship because of the China factor,\" says Ms Sirohi.\n",
      "\n",
      "But on the whole, there is a bipartisan agreement to make the relationship deeper and broader. \"The India-US strategic partnership has certainly moved to the next level. It's one of mutual need and mutual benefit,\" says Ms Sirohi.\n"
     ]
    }
   ],
   "source": [
    "print(mytext)"
   ]
  },
  {
   "cell_type": "code",
   "execution_count": 15,
   "id": "786e1e03-510c-4583-85b3-b6a6616a8a23",
   "metadata": {},
   "outputs": [
    {
     "name": "stdout",
     "output_type": "stream",
     "text": [
      "599\n"
     ]
    }
   ],
   "source": [
    "# Tokenize the dataset\n",
    "tokenizer = Tokenizer()\n",
    "tokenizer.fit_on_texts([mytext])\n",
    "total_words = len(tokenizer.word_index)+1\n",
    "print(total_words)"
   ]
  },
  {
   "cell_type": "code",
   "execution_count": 17,
   "id": "0ae58924-fecc-49c5-a305-1e715a0d112e",
   "metadata": {
    "scrolled": true
   },
   "outputs": [
    {
     "name": "stdout",
     "output_type": "stream",
     "text": [
      "{'the': 1, 'to': 2, 'in': 3, 'a': 4, 'and': 5, 'india': 6, 'of': 7, 'mr': 8, 'us': 9, 'is': 10, 'modi': 11, 'has': 12, 'that': 13, 'biden': 14, 'as': 15, 'with': 16, 'not': 17, \"india's\": 18, 'for': 19, 'but': 20, 'on': 21, 'washington': 22, 'an': 23, 'it': 24, 'says': 25, 'will': 26, 'are': 27, 'indian': 28, 'prime': 29, 'minister': 30, 'this': 31, 'have': 32, 'trade': 33, 'visit': 34, 'by': 35, 'president': 36, 'relationship': 37, 'been': 38, 'about': 39, 'strategic': 40, 'more': 41, 'up': 42, 'during': 43, 'also': 44, 'make': 45, 'sirohi': 46, 'china': 47, 'air': 48, 'force': 49, 'state': 50, 'his': 51, 'ties': 52, 'two': 53, 'at': 54, 'white': 55, 'house': 56, 'be': 57, 'lot': 58, 'ms': 59, 'technology': 60, 'jet': 61, 'semiconductor': 62, 'now': 63, 'first': 64, 'was': 65, 'global': 66, 'one': 67, 'he': 68, 'without': 69, 'they': 70, 'narendra': 71, 'joe': 72, 'world': 73, 'potential': 74, 'how': 75, 'become': 76, 'kugelman': 77, 'years': 78, 'there': 79, \"modi's\": 80, 'fighter': 81, 'from': 82, 'which': 83, 'russia': 84, 'sides': 85, '2023': 86, 'seen': 87, 'under': 88, 'administration': 89, 'or': 90, 'way': 91, 'policy': 92, 'partner': 93, 'autonomy': 94, \"didn't\": 95, 'could': 96, 'joint': 97, 'major': 98, 'following': 99, \"country's\": 100, 'partnership': 101, 'most': 102, 'strengthening': 103, 'between': 104, 'nations': 105, 'closer': 106, 'than': 107, 'time': 108, 'said': 109, 'may': 110, 'broad': 111, 'reason': 112, 'can': 113, \"china's\": 114, 'indo': 115, 'pacific': 116, 'had': 117, 'because': 118, 'later': 119, 'purchase': 120, 'former': 121, 'general': 122, 'owned': 123, 'only': 124, 'wants': 125, 'arms': 126, 'sharing': 127, 'military': 128, 'drones': 129, 'facility': 130, 'into': 131, 'biggest': 132, \"washington's\": 133, 'invest': 134, 'test': 135, 'maker': 136, 'research': 137, 'all': 138, 'future': 139, 'u': 140, 's': 141, 'welcome': 142, 'june': 143, 'dc': 144, 'many': 145, 'never': 146, 'place': 147, 'foreign': 148, 'wanted': 149, 'what': 150, 'some': 151, 'relations': 152, 'close': 153, 'obama': 154, 'trump': 155, 'further': 156, 'did': 157, 'importance': 158, 'free': 159, 'united': 160, 'states': 161, 'usaf': 162, 'personnel': 163, 'front': 164, 'april': 165, 'full': 166, 'over': 167, 'tariffs': 168, 'were': 169, 'discussions': 170, 'disputes': 171, \"it's\": 172, 'democratic': 173, 'hindu': 174, 'party': 175, 'mutual': 176, 'lavish': 177, 'called': 178, 'among': 179, 'consequential': 180, \"bbc's\": 181, 'vikas': 182, 'pandey': 183, 'soutik': 184, 'biswas': 185, 'explore': 186, 'factors': 187, 'contribute': 188, \"visit's\": 189, \"us's\": 190, \"world's\": 191, 'populous': 192, 'country': 193, 'stronger': 194, 'dynamic': 195, 'any': 196, 'history': 197, 'completion': 198, 'pomp': 199, 'filled': 200, 'remark': 201, 'exaggeration': 202, 'summit': 203, 'suggests': 204, 'transformed': 205, 'underscores': 206, 'just': 207, 'deep': 208, 'relatively': 209, 'short': 210, 'michael': 211, 'wilson': 212, 'center': 213, 'american': 214, 'think': 215, 'tank': 216, 'key': 217, 'keen': 218, 'draw': 219, 'so': 220, 'act': 221, 'counterbalance': 222, 'growing': 223, 'influence': 224, 'lived': 225, 'their': 226, 'promise': 227, 'landmark': 228, 'civilian': 229, 'nuclear': 230, 'deal': 231, '2005': 232, 'liability': 233, 'law': 234, 'passed': 235, 'three': 236, 'hobbled': 237, 'reactors': 238, 'followed': 239, 'fading': 240, 'commitment': 241, 'manmohan': 242, \"singh's\": 243, 'second': 244, 'term': 245, 'leader': 246, 'coalition': 247, 'government': 248, 'enthusiasm': 249, 'embracing': 250, 'given': 251, 'overall': 252, 'directive': 253, 'work': 254, 'seema': 255, 'author': 256, 'friends': 257, 'benefits': 258, 'story': 259, 'put': 260, 'effort': 261, 'substantive': 262, 'deliverables': 263, 'defence': 264, 'industrial': 265, 'cooperation': 266, 'topped': 267, 'list': 268, 'consider': 269, 'electric': 270, 'hindustan': 271, 'aeronautics': 272, 'limited': 273, 'advanced': 274, 'engines': 275, 'indigenous': 276, 'light': 277, 'combat': 278, 'aircraft': 279, 'means': 280, 'greater': 281, 'transfer': 282, 'engine': 283, 'ever': 284, 'before': 285, 'clear': 286, 'sign': 287, 'sell': 288, 'comfortable': 289, 'proceed': 290, '3bn': 291, 'battle': 292, 'tested': 293, 'mq': 294, '9b': 295, 'predator': 296, 'atomics': 297, 'set': 298, 'assembled': 299, 'fits': 300, \"'make\": 301, \"india'\": 302, 'campaign': 303, 'supplies': 304, '11': 305, '45': 306, 'supplier': 307, 'hopes': 308, 'primary': 309, 'provider': 310, 'coming': 311, 'immediate': 312, 'goal': 313, 'strengthen': 314, 'capacity': 315, 'counter': 316, 'base': 317, 'memory': 318, 'chip': 319, 'giant': 320, 'micron': 321, '825m': 322, 'build': 323, 'assembly': 324, 'creating': 325, 'thousands': 326, 'jobs': 327, 'equipment': 328, 'lam': 329, 'train': 330, '60': 331, '000': 332, 'engineers': 333, 'through': 334, 'network': 335, 'interconnected': 336, 'labs': 337, 'centres': 338, 'speed': 339, 'education': 340, 'workforce': 341, 'development': 342, 'applied': 343, 'materials': 344, 'machines': 345, 'producing': 346, 'semiconductors': 347, '400m': 348, 'establish': 349, 'engineering': 350, 'centre': 351, 'both': 352, 'talking': 353, 'cutting': 354, 'edge': 355, 'technologies': 356, 'seed': 357, 'shape': 358, 'lady': 359, 'jill': 360, '21': 361, 'mrs': 362, 'ups': 363, 'downs': 364, 'since': 365, 'seriously': 366, 'began': 367, 'courting': 368, 'bill': 369, 'clinton': 370, 'then': 371, 'george': 372, 'bush': 373, 'response': 374, 'measured': 375, 'overeager': 376, 'too': 377, 'forthcoming': 378, 'saw': 379, 'geopolitics': 380, 'its': 381, 'own': 382, 'order': 383, 'strategy': 384, 'nonalignment': 385, 'started': 386, 'jawaharlal': 387, 'nehru': 388, 'always': 389, 'deeply': 390, 'rooted': 391, 'camp': 392, 'other': 393, 'junior': 394, 'superpower': 395, 'left': 396, 'ideals': 397, 'describe': 398, 'altruism': 399, 'leading': 400, 'different': 401, 'kind': 402, 'considerably': 403, 'economic': 404, 'geopolitical': 405, 'heft': 406, 'formed': 407, 'bonds': 408, 'presidents': 409, 'barack': 410, 'donald': 411, 'sacrificed': 412, 'would': 413, 'go': 414, 'step': 415, 'probably': 416, 'take': 417, 'harder': 418, 'public': 419, 'stand': 420, 'seem': 421, 'disappointed': 422, 'repeated': 423, 'line': 424, 'era': 425, 'war': 426, 'mentioning': 427, 'speak': 428, 'beefing': 429, 'humanitarian': 430, 'assistance': 431, 'ukraine': 432, 'mention': 433, 'name': 434, 'either': 435, 'talk': 436, 'prosperous': 437, 'far': 438, 'pushed': 439, \"administration's\": 440, 'compromising': 441, 'ideal': 442, 'come': 443, 'making': 444, 'success': 445, 'iaf': 446, 'posing': 447, 'f': 448, '15': 449, 'eagle': 450, \"'exercise\": 451, 'cope': 452, \"2023'\": 453, 'station': 454, 'kalaikunda': 455, 'around': 456, '170': 457, 'km': 458, 'west': 459, 'kolkata': 460, '24th': 461, 'pose': 462, 'exercise': 463, 'militaries': 464, 'working': 465, 'closely': 466, 'together': 467, 'arrangements': 468, 'where': 469, 'use': 470, 'each': 471, \"other's\": 472, 'facilities': 473, 'refuelling': 474, 'maintenance': 475, 'purposes': 476, 'holding': 477, 'exercises': 478, \"they're\": 479, 'intelligence': 480, 'credit': 481, 'managing': 482, 'really': 483, 'limits': 484, 'sense': 485, 'getting': 486, 'you': 487, 'power': 488, 'signing': 489, 'fledged': 490, 'alliance': 491, 'differences': 492, 'recent': 493, 'particularly': 494, 'suffered': 495, 'expected': 496, 'announce': 497, 'anything': 498, 'understood': 499, 'continue': 500, 'overshadowing': 501, 'surprisingly': 502, 'announced': 503, 'six': 504, 'separate': 505, 'organization': 506, 'resolved': 507, 'including': 508, 'involved': 509, 'top': 510, 'trading': 511, '130bn': 512, 'goods': 513, 'delhi': 514, 'eighth': 515, 'largest': 516, 'while': 517, 'these': 518, 'numbers': 519, 'impressive': 520, 'analysts': 521, 'policymakers': 522, 'feel': 523, 'huge': 524, 'untapped': 525, 'burgeoning': 526, 'market': 527, 'expanding': 528, 'middle': 529, 'class': 530, 'positioning': 531, 'itself': 532, 'alternative': 533, 'manufacturing': 534, 'hub': 535, 'participate': 536, 'arrival': 537, 'ceremony': 538, 'south': 539, 'lawn': 540, 'thursday': 541, '22': 542, 'invite': 543, 'official': 544, '2': 545, '7': 546, 'million': 547, 'indians': 548, 'live': 549, 'firms': 550, 'interested': 551, 'proposal': 552, 'look': 553, 'supply': 554, 'chain': 555, 'dominance': 556, 'context': 557, 'resolution': 558, 'give': 559, 'impetus': 560, 'unlocking': 561, 'even': 562, 'sky': 563, 'limit': 564, 'critics': 565, 'questioned': 566, 'backsliding': 567, 'nationalist': 568, 'bharatiya': 569, 'janata': 570, 'bjp': 571, 'television': 572, 'interview': 573, 'week': 574, 'emphasised': 575, 'significance': 576, 'addressing': 577, 'protection': 578, 'muslim': 579, 'minority': 580, 'predominantly': 581, 'progressives': 582, 'disturbed': 583, 'happening': 584, 'realists': 585, 'centrists': 586, 'factor': 587, 'whole': 588, 'bipartisan': 589, 'agreement': 590, 'deeper': 591, 'broader': 592, 'certainly': 593, 'moved': 594, 'next': 595, 'level': 596, 'need': 597, 'benefit': 598}\n"
     ]
    }
   ],
   "source": [
    "print(tokenizer.word_index)"
   ]
  },
  {
   "cell_type": "code",
   "execution_count": 48,
   "id": "8b95b91d-cdaa-4829-ad3c-c6ce725f8110",
   "metadata": {},
   "outputs": [],
   "source": [
    "input_sequences = []\n",
    "for line in mytext.split('\\n'):\n",
    "    token_list = tokenizer.texts_to_sequences([line])[0]\n",
    "    # print(token_list)\n",
    "    \n",
    "    for i in range(1, len(token_list)):\n",
    "        n_gram_sequence = token_list[:i+1]\n",
    "        # print(n_gram_sequence)\n",
    "        \n",
    "        input_sequences.append(n_gram_sequence)"
   ]
  },
  {
   "cell_type": "code",
   "execution_count": 49,
   "id": "19c7d0e3-87cc-47fa-bd3a-e268aac91beb",
   "metadata": {},
   "outputs": [
    {
     "data": {
      "text/plain": [
       "[[99, 4],\n",
       " [99, 4, 177],\n",
       " [99, 4, 177, 50],\n",
       " [99, 4, 177, 50, 34],\n",
       " [99, 4, 177, 50, 34, 35],\n",
       " [99, 4, 177, 50, 34, 35, 28],\n",
       " [99, 4, 177, 50, 34, 35, 28, 29],\n",
       " [99, 4, 177, 50, 34, 35, 28, 29, 30],\n",
       " [99, 4, 177, 50, 34, 35, 28, 29, 30, 71],\n",
       " [99, 4, 177, 50, 34, 35, 28, 29, 30, 71, 11]]"
      ]
     },
     "execution_count": 49,
     "metadata": {},
     "output_type": "execute_result"
    }
   ],
   "source": [
    "input_sequences[:10]"
   ]
  },
  {
   "cell_type": "code",
   "execution_count": 50,
   "id": "2834920a-03b1-430d-bbd6-1bda686b1579",
   "metadata": {},
   "outputs": [
    {
     "name": "stdout",
     "output_type": "stream",
     "text": [
      "83\n",
      "[[  0   0   0 ...   0  99   4]\n",
      " [  0   0   0 ...  99   4 177]\n",
      " [  0   0   0 ...   4 177  50]\n",
      " ...\n",
      " [  0   0   0 ... 176 598  25]\n",
      " [  0   0   0 ... 598  25  59]\n",
      " [  0   0   0 ...  25  59  46]]\n"
     ]
    }
   ],
   "source": [
    "max_sequence_len = max([len(seq) for seq in input_sequences])\n",
    "print(max_sequence_len)\n",
    "\n",
    "input_sequences = np.array(pad_sequences(input_sequences, maxlen=max_sequence_len, padding='pre'))\n",
    "print(input_sequences)"
   ]
  },
  {
   "cell_type": "code",
   "execution_count": 65,
   "id": "02527b74-100f-48d2-8b4f-f257ce728106",
   "metadata": {},
   "outputs": [
    {
     "data": {
      "text/plain": [
       "(1371, 83)"
      ]
     },
     "execution_count": 65,
     "metadata": {},
     "output_type": "execute_result"
    }
   ],
   "source": [
    "input_sequences.shape"
   ]
  },
  {
   "cell_type": "code",
   "execution_count": 51,
   "id": "0cad1352-a7d0-4373-94e6-3547af527d0b",
   "metadata": {},
   "outputs": [
    {
     "name": "stdout",
     "output_type": "stream",
     "text": [
      "[ 0  0  0  0  0  0  0  0  0  0  0  0  0  0  0  0  0  0  0  0  0  0  0  0\n",
      "  0  0  0  0  0  0  0  0  0  0  0  0  0  0  0  0  0  0  0  0  0  0  0  0\n",
      "  0  0  0  0  0  0  0  0  0  0  0  0  0  0  0  0  0  0  0  0  0  0  0  0\n",
      "  0  0  0  0  0  0  0  0  0 99  4]\n"
     ]
    }
   ],
   "source": [
    "print(input_sequences[0])"
   ]
  },
  {
   "cell_type": "code",
   "execution_count": 53,
   "id": "acad3492-7455-4a51-9609-385d32120ea7",
   "metadata": {},
   "outputs": [],
   "source": [
    "x = input_sequences[:,:-1]\n",
    "y = input_sequences[:,-1]"
   ]
  },
  {
   "cell_type": "code",
   "execution_count": 54,
   "id": "83d88b95-158c-4bc4-815b-07f3e040e2f5",
   "metadata": {},
   "outputs": [
    {
     "name": "stdout",
     "output_type": "stream",
     "text": [
      "[ 0  0  0  0  0  0  0  0  0  0  0  0  0  0  0  0  0  0  0  0  0  0  0  0\n",
      "  0  0  0  0  0  0  0  0  0  0  0  0  0  0  0  0  0  0  0  0  0  0  0  0\n",
      "  0  0  0  0  0  0  0  0  0  0  0  0  0  0  0  0  0  0  0  0  0  0  0  0\n",
      "  0  0  0  0  0  0  0  0  0 99]\n",
      "4\n"
     ]
    }
   ],
   "source": [
    "print(x[0])\n",
    "print(y[0])"
   ]
  },
  {
   "cell_type": "code",
   "execution_count": 63,
   "id": "76a3e955-c4a4-4263-b000-3864c1c072b4",
   "metadata": {},
   "outputs": [
    {
     "data": {
      "text/plain": [
       "array([  4, 177,  50, ...,  25,  59,  46], dtype=int32)"
      ]
     },
     "execution_count": 63,
     "metadata": {},
     "output_type": "execute_result"
    }
   ],
   "source": [
    "y"
   ]
  },
  {
   "cell_type": "code",
   "execution_count": 59,
   "id": "2257f3f6-9c3e-4e8e-ae02-91f531a3164f",
   "metadata": {},
   "outputs": [
    {
     "data": {
      "text/plain": [
       "1371"
      ]
     },
     "execution_count": 59,
     "metadata": {},
     "output_type": "execute_result"
    }
   ],
   "source": [
    "len(x)"
   ]
  },
  {
   "cell_type": "code",
   "execution_count": 62,
   "id": "25ba8832-d5a8-4590-98f6-b5d03cfe2ead",
   "metadata": {},
   "outputs": [
    {
     "data": {
      "text/plain": [
       "1371"
      ]
     },
     "execution_count": 62,
     "metadata": {},
     "output_type": "execute_result"
    }
   ],
   "source": [
    "len(y)"
   ]
  },
  {
   "cell_type": "code",
   "execution_count": 64,
   "id": "118446a1-ee48-4fc2-bc2f-b1bde8828de0",
   "metadata": {},
   "outputs": [
    {
     "name": "stdout",
     "output_type": "stream",
     "text": [
      "[[0. 0. 0. ... 0. 0. 0.]\n",
      " [0. 0. 0. ... 0. 0. 0.]\n",
      " [0. 0. 0. ... 0. 0. 0.]\n",
      " ...\n",
      " [0. 0. 0. ... 0. 0. 0.]\n",
      " [0. 0. 0. ... 0. 0. 0.]\n",
      " [0. 0. 0. ... 0. 0. 0.]]\n"
     ]
    }
   ],
   "source": [
    "# Convert y into one-hot encoding\n",
    "y = np.array(tf.keras.utils.to_categorical(y, num_classes=total_words))\n",
    "print(y)"
   ]
  },
  {
   "cell_type": "markdown",
   "id": "50acfa48-cb4f-4665-9156-43bc88b11baf",
   "metadata": {},
   "source": [
    "# Model Training"
   ]
  },
  {
   "cell_type": "code",
   "execution_count": 69,
   "id": "351a89be-2d08-4536-a4aa-a8491d6e46c9",
   "metadata": {},
   "outputs": [
    {
     "name": "stdout",
     "output_type": "stream",
     "text": [
      "Model: \"sequential_3\"\n",
      "_________________________________________________________________\n",
      " Layer (type)                Output Shape              Param #   \n",
      "=================================================================\n",
      " embedding_3 (Embedding)     (None, 82, 100)           59900     \n",
      "                                                                 \n",
      " lstm_3 (LSTM)               (None, 150)               150600    \n",
      "                                                                 \n",
      " dense_3 (Dense)             (None, 599)               90449     \n",
      "                                                                 \n",
      "=================================================================\n",
      "Total params: 300949 (1.15 MB)\n",
      "Trainable params: 300949 (1.15 MB)\n",
      "Non-trainable params: 0 (0.00 Byte)\n",
      "_________________________________________________________________\n"
     ]
    }
   ],
   "source": [
    "model = Sequential()\n",
    "model.add(Embedding(total_words, 100, input_length=max_sequence_len-1))\n",
    "model.add(LSTM(150))\n",
    "model.add(Dense(total_words, activation='softmax'))\n",
    "model.summary()"
   ]
  },
  {
   "cell_type": "code",
   "execution_count": 71,
   "id": "345fe2ce-ac62-4ee5-8fb1-a7f1a9230015",
   "metadata": {},
   "outputs": [
    {
     "name": "stdout",
     "output_type": "stream",
     "text": [
      "Epoch 1/100\n",
      "43/43 [==============================] - 7s 90ms/step - loss: 6.1613 - accuracy: 0.0496\n",
      "Epoch 2/100\n",
      "43/43 [==============================] - 4s 91ms/step - loss: 5.7934 - accuracy: 0.0576\n",
      "Epoch 3/100\n",
      "43/43 [==============================] - 4s 86ms/step - loss: 5.7271 - accuracy: 0.0576\n",
      "Epoch 4/100\n",
      "43/43 [==============================] - 4s 82ms/step - loss: 5.6741 - accuracy: 0.0576\n",
      "Epoch 5/100\n",
      "43/43 [==============================] - 4s 92ms/step - loss: 5.6015 - accuracy: 0.0576\n",
      "Epoch 6/100\n",
      "43/43 [==============================] - 4s 92ms/step - loss: 5.5012 - accuracy: 0.0576\n",
      "Epoch 7/100\n",
      "43/43 [==============================] - 3s 75ms/step - loss: 5.3779 - accuracy: 0.0627\n",
      "Epoch 8/100\n",
      "43/43 [==============================] - 3s 80ms/step - loss: 5.2072 - accuracy: 0.0985\n",
      "Epoch 9/100\n",
      "43/43 [==============================] - 3s 76ms/step - loss: 5.0033 - accuracy: 0.1116\n",
      "Epoch 10/100\n",
      "43/43 [==============================] - 4s 87ms/step - loss: 4.7707 - accuracy: 0.1284\n",
      "Epoch 11/100\n",
      "43/43 [==============================] - 4s 83ms/step - loss: 4.5375 - accuracy: 0.1393\n",
      "Epoch 12/100\n",
      "43/43 [==============================] - 4s 89ms/step - loss: 4.3153 - accuracy: 0.1656\n",
      "Epoch 13/100\n",
      "43/43 [==============================] - 3s 71ms/step - loss: 4.0836 - accuracy: 0.1947\n",
      "Epoch 14/100\n",
      "43/43 [==============================] - 3s 71ms/step - loss: 3.8490 - accuracy: 0.2268\n",
      "Epoch 15/100\n",
      "43/43 [==============================] - 3s 70ms/step - loss: 3.6298 - accuracy: 0.2531\n",
      "Epoch 16/100\n",
      "43/43 [==============================] - 4s 95ms/step - loss: 3.4018 - accuracy: 0.2867\n",
      "Epoch 17/100\n",
      "43/43 [==============================] - 5s 110ms/step - loss: 3.1770 - accuracy: 0.3348\n",
      "Epoch 18/100\n",
      "43/43 [==============================] - 4s 82ms/step - loss: 2.9662 - accuracy: 0.3727\n",
      "Epoch 19/100\n",
      "43/43 [==============================] - 4s 87ms/step - loss: 2.7679 - accuracy: 0.4223\n",
      "Epoch 20/100\n",
      "43/43 [==============================] - 4s 83ms/step - loss: 2.5634 - accuracy: 0.4756\n",
      "Epoch 21/100\n",
      "43/43 [==============================] - 5s 112ms/step - loss: 2.3731 - accuracy: 0.5441\n",
      "Epoch 22/100\n",
      "43/43 [==============================] - 3s 78ms/step - loss: 2.1908 - accuracy: 0.6018\n",
      "Epoch 23/100\n",
      "43/43 [==============================] - 3s 80ms/step - loss: 2.0220 - accuracy: 0.6572\n",
      "Epoch 24/100\n",
      "43/43 [==============================] - 3s 78ms/step - loss: 1.8536 - accuracy: 0.7031\n",
      "Epoch 25/100\n",
      "43/43 [==============================] - 3s 79ms/step - loss: 1.7048 - accuracy: 0.7505\n",
      "Epoch 26/100\n",
      "43/43 [==============================] - 3s 76ms/step - loss: 1.5567 - accuracy: 0.7826\n",
      "Epoch 27/100\n",
      "43/43 [==============================] - 3s 79ms/step - loss: 1.4313 - accuracy: 0.8257\n",
      "Epoch 28/100\n",
      "43/43 [==============================] - 3s 81ms/step - loss: 1.3041 - accuracy: 0.8476\n",
      "Epoch 29/100\n",
      "43/43 [==============================] - 3s 77ms/step - loss: 1.1931 - accuracy: 0.8636\n",
      "Epoch 30/100\n",
      "43/43 [==============================] - 3s 79ms/step - loss: 1.0881 - accuracy: 0.8899\n",
      "Epoch 31/100\n",
      "43/43 [==============================] - 3s 77ms/step - loss: 0.9924 - accuracy: 0.8993\n",
      "Epoch 32/100\n",
      "43/43 [==============================] - 4s 83ms/step - loss: 0.9022 - accuracy: 0.9168\n",
      "Epoch 33/100\n",
      "43/43 [==============================] - 3s 80ms/step - loss: 0.8292 - accuracy: 0.9249\n",
      "Epoch 34/100\n",
      "43/43 [==============================] - 4s 82ms/step - loss: 0.7592 - accuracy: 0.9380\n",
      "Epoch 35/100\n",
      "43/43 [==============================] - 3s 79ms/step - loss: 0.6934 - accuracy: 0.9416\n",
      "Epoch 36/100\n",
      "43/43 [==============================] - 3s 81ms/step - loss: 0.6382 - accuracy: 0.9533\n",
      "Epoch 37/100\n",
      "43/43 [==============================] - 3s 78ms/step - loss: 0.5848 - accuracy: 0.9548\n",
      "Epoch 38/100\n",
      "43/43 [==============================] - 4s 84ms/step - loss: 0.5405 - accuracy: 0.9613\n",
      "Epoch 39/100\n",
      "43/43 [==============================] - 3s 80ms/step - loss: 0.4957 - accuracy: 0.9672\n",
      "Epoch 40/100\n",
      "43/43 [==============================] - 3s 77ms/step - loss: 0.4599 - accuracy: 0.9679\n",
      "Epoch 41/100\n",
      "43/43 [==============================] - 3s 80ms/step - loss: 0.4251 - accuracy: 0.9708\n",
      "Epoch 42/100\n",
      "43/43 [==============================] - 3s 80ms/step - loss: 0.3936 - accuracy: 0.9752\n",
      "Epoch 43/100\n",
      "43/43 [==============================] - 4s 82ms/step - loss: 0.3649 - accuracy: 0.9781\n",
      "Epoch 44/100\n",
      "43/43 [==============================] - 4s 82ms/step - loss: 0.3400 - accuracy: 0.9810\n",
      "Epoch 45/100\n",
      "43/43 [==============================] - 4s 83ms/step - loss: 0.3164 - accuracy: 0.9818\n",
      "Epoch 46/100\n",
      "43/43 [==============================] - 3s 80ms/step - loss: 0.2968 - accuracy: 0.9818\n",
      "Epoch 47/100\n",
      "43/43 [==============================] - 4s 87ms/step - loss: 0.2779 - accuracy: 0.9810\n",
      "Epoch 48/100\n",
      "43/43 [==============================] - 3s 81ms/step - loss: 0.2606 - accuracy: 0.9810\n",
      "Epoch 49/100\n",
      "43/43 [==============================] - 3s 80ms/step - loss: 0.2439 - accuracy: 0.9847\n",
      "Epoch 50/100\n",
      "43/43 [==============================] - 3s 77ms/step - loss: 0.2298 - accuracy: 0.9832\n",
      "Epoch 51/100\n",
      "43/43 [==============================] - 3s 80ms/step - loss: 0.2168 - accuracy: 0.9861\n",
      "Epoch 52/100\n",
      "43/43 [==============================] - 4s 85ms/step - loss: 0.2042 - accuracy: 0.9861\n",
      "Epoch 53/100\n",
      "43/43 [==============================] - 3s 81ms/step - loss: 0.1939 - accuracy: 0.9847\n",
      "Epoch 54/100\n",
      "43/43 [==============================] - 3s 81ms/step - loss: 0.1837 - accuracy: 0.9840\n",
      "Epoch 55/100\n",
      "43/43 [==============================] - 4s 93ms/step - loss: 0.1737 - accuracy: 0.9854\n",
      "Epoch 56/100\n",
      "43/43 [==============================] - 3s 78ms/step - loss: 0.1663 - accuracy: 0.9840\n",
      "Epoch 57/100\n",
      "43/43 [==============================] - 3s 79ms/step - loss: 0.1577 - accuracy: 0.9847\n",
      "Epoch 58/100\n",
      "43/43 [==============================] - 3s 78ms/step - loss: 0.1502 - accuracy: 0.9869\n",
      "Epoch 59/100\n",
      "43/43 [==============================] - 3s 76ms/step - loss: 0.1444 - accuracy: 0.9869\n",
      "Epoch 60/100\n",
      "43/43 [==============================] - 3s 77ms/step - loss: 0.1377 - accuracy: 0.9854\n",
      "Epoch 61/100\n",
      "43/43 [==============================] - 3s 81ms/step - loss: 0.1322 - accuracy: 0.9861\n",
      "Epoch 62/100\n",
      "43/43 [==============================] - 4s 85ms/step - loss: 0.1269 - accuracy: 0.9861\n",
      "Epoch 63/100\n",
      "43/43 [==============================] - 3s 81ms/step - loss: 0.1217 - accuracy: 0.9861\n",
      "Epoch 64/100\n",
      "43/43 [==============================] - 3s 79ms/step - loss: 0.1170 - accuracy: 0.9876\n",
      "Epoch 65/100\n",
      "43/43 [==============================] - 3s 79ms/step - loss: 0.1133 - accuracy: 0.9861\n",
      "Epoch 66/100\n",
      "43/43 [==============================] - 3s 77ms/step - loss: 0.1085 - accuracy: 0.9869\n",
      "Epoch 67/100\n",
      "43/43 [==============================] - 3s 79ms/step - loss: 0.1045 - accuracy: 0.9861\n",
      "Epoch 68/100\n",
      "43/43 [==============================] - 3s 79ms/step - loss: 0.1020 - accuracy: 0.9847\n",
      "Epoch 69/100\n",
      "43/43 [==============================] - 3s 77ms/step - loss: 0.0975 - accuracy: 0.9861\n",
      "Epoch 70/100\n",
      "43/43 [==============================] - 3s 79ms/step - loss: 0.0943 - accuracy: 0.9861\n",
      "Epoch 71/100\n",
      "43/43 [==============================] - 3s 77ms/step - loss: 0.0909 - accuracy: 0.9861\n",
      "Epoch 72/100\n",
      "43/43 [==============================] - 3s 79ms/step - loss: 0.0886 - accuracy: 0.9861\n",
      "Epoch 73/100\n",
      "43/43 [==============================] - 3s 79ms/step - loss: 0.0866 - accuracy: 0.9854\n",
      "Epoch 74/100\n",
      "43/43 [==============================] - 5s 122ms/step - loss: 0.0831 - accuracy: 0.9869\n",
      "Epoch 75/100\n",
      "43/43 [==============================] - 4s 98ms/step - loss: 0.0815 - accuracy: 0.9869\n",
      "Epoch 76/100\n",
      "43/43 [==============================] - 4s 101ms/step - loss: 0.0790 - accuracy: 0.9861\n",
      "Epoch 77/100\n",
      "43/43 [==============================] - 4s 88ms/step - loss: 0.0775 - accuracy: 0.9854\n",
      "Epoch 78/100\n",
      "43/43 [==============================] - 4s 101ms/step - loss: 0.0751 - accuracy: 0.9869\n",
      "Epoch 79/100\n",
      "43/43 [==============================] - 4s 87ms/step - loss: 0.0735 - accuracy: 0.9861\n",
      "Epoch 80/100\n",
      "43/43 [==============================] - 3s 75ms/step - loss: 0.0717 - accuracy: 0.9840\n",
      "Epoch 81/100\n",
      "43/43 [==============================] - 3s 70ms/step - loss: 0.0699 - accuracy: 0.9854\n",
      "Epoch 82/100\n",
      "43/43 [==============================] - 3s 80ms/step - loss: 0.0698 - accuracy: 0.9861\n",
      "Epoch 83/100\n",
      "43/43 [==============================] - 3s 79ms/step - loss: 0.0675 - accuracy: 0.9840\n",
      "Epoch 84/100\n",
      "43/43 [==============================] - 3s 75ms/step - loss: 0.0653 - accuracy: 0.9861\n",
      "Epoch 85/100\n",
      "43/43 [==============================] - 3s 72ms/step - loss: 0.0639 - accuracy: 0.9869\n",
      "Epoch 86/100\n",
      "43/43 [==============================] - 3s 72ms/step - loss: 0.0630 - accuracy: 0.9869\n",
      "Epoch 87/100\n",
      "43/43 [==============================] - 3s 75ms/step - loss: 0.0612 - accuracy: 0.9861\n",
      "Epoch 88/100\n",
      "43/43 [==============================] - 3s 71ms/step - loss: 0.0602 - accuracy: 0.9861\n",
      "Epoch 89/100\n",
      "43/43 [==============================] - 3s 79ms/step - loss: 0.0587 - accuracy: 0.9861\n",
      "Epoch 90/100\n",
      "43/43 [==============================] - 4s 82ms/step - loss: 0.0573 - accuracy: 0.9869\n",
      "Epoch 91/100\n",
      "43/43 [==============================] - 3s 76ms/step - loss: 0.0580 - accuracy: 0.9861\n",
      "Epoch 92/100\n",
      "43/43 [==============================] - 3s 68ms/step - loss: 0.0565 - accuracy: 0.9869\n",
      "Epoch 93/100\n",
      "43/43 [==============================] - 4s 99ms/step - loss: 0.0554 - accuracy: 0.9854\n",
      "Epoch 94/100\n",
      "43/43 [==============================] - 4s 83ms/step - loss: 0.0538 - accuracy: 0.9861\n",
      "Epoch 95/100\n",
      "43/43 [==============================] - 3s 72ms/step - loss: 0.0527 - accuracy: 0.9876\n",
      "Epoch 96/100\n",
      "43/43 [==============================] - 3s 73ms/step - loss: 0.0519 - accuracy: 0.9861\n",
      "Epoch 97/100\n",
      "43/43 [==============================] - 3s 71ms/step - loss: 0.0518 - accuracy: 0.9854\n",
      "Epoch 98/100\n",
      "43/43 [==============================] - 3s 75ms/step - loss: 0.0511 - accuracy: 0.9854\n",
      "Epoch 99/100\n",
      "43/43 [==============================] - 4s 82ms/step - loss: 0.0510 - accuracy: 0.9847\n",
      "Epoch 100/100\n",
      "43/43 [==============================] - 4s 86ms/step - loss: 0.0504 - accuracy: 0.9854\n"
     ]
    },
    {
     "data": {
      "text/plain": [
       "<keras.src.callbacks.History at 0x7fce1b76fe80>"
      ]
     },
     "execution_count": 71,
     "metadata": {},
     "output_type": "execute_result"
    }
   ],
   "source": [
    "model.compile(loss='categorical_crossentropy', optimizer='adam', metrics=['accuracy'])\n",
    "model.fit(x, y, epochs=100, verbose=1)"
   ]
  },
  {
   "cell_type": "code",
   "execution_count": 88,
   "id": "c83f1874-0e23-4d4a-beeb-79caf399af54",
   "metadata": {},
   "outputs": [
    {
     "name": "stdout",
     "output_type": "stream",
     "text": [
      "[6]\n",
      "1/1 [==============================] - 0s 20ms/step\n",
      "[26]\n",
      "[6, 26]\n",
      "1/1 [==============================] - 0s 23ms/step\n",
      "[290]\n",
      "india will proceed\n"
     ]
    }
   ],
   "source": [
    "input_text = \"india\"\n",
    "predict_next_words = 2\n",
    "\n",
    "for i in range(predict_next_words):\n",
    "    token_list = tokenizer.texts_to_sequences([input_text])[0]\n",
    "    print(token_list)\n",
    "\n",
    "    token_list = pad_sequences([token_list], maxlen= max_sequence_len-1, padding=\"pre\")\n",
    "    predicted = np.argmax(model.predict(token_list), axis=-1)\n",
    "    print(predicted)\n",
    "\n",
    "    output_word = \"\"\n",
    "    for word, index in tokenizer.word_index.items():\n",
    "        if index == predicted:\n",
    "            output_word = word\n",
    "            break\n",
    "            \n",
    "    input_text += \" \" + output_word\n",
    "\n",
    "print(input_text)"
   ]
  },
  {
   "cell_type": "code",
   "execution_count": null,
   "id": "f1c300b1-a83d-4385-88f8-588e8a18f043",
   "metadata": {},
   "outputs": [],
   "source": []
  }
 ],
 "metadata": {
  "kernelspec": {
   "display_name": "Python 3 (ipykernel)",
   "language": "python",
   "name": "python3"
  },
  "language_info": {
   "codemirror_mode": {
    "name": "ipython",
    "version": 3
   },
   "file_extension": ".py",
   "mimetype": "text/x-python",
   "name": "python",
   "nbconvert_exporter": "python",
   "pygments_lexer": "ipython3",
   "version": "3.10.10"
  }
 },
 "nbformat": 4,
 "nbformat_minor": 5
}
